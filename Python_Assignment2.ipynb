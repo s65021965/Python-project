{
  "nbformat": 4,
  "nbformat_minor": 0,
  "metadata": {
    "colab": {
      "provenance": [],
      "authorship_tag": "ABX9TyPRqSfjaYOqb/fPk3EfYEIi",
      "include_colab_link": true
    },
    "kernelspec": {
      "name": "python3",
      "display_name": "Python 3"
    },
    "language_info": {
      "name": "python"
    }
  },
  "cells": [
    {
      "cell_type": "markdown",
      "metadata": {
        "id": "view-in-github",
        "colab_type": "text"
      },
      "source": [
        "<a href=\"https://colab.research.google.com/github/s65021965/Python-project/blob/main/Python_Assignment2.ipynb\" target=\"_parent\"><img src=\"https://colab.research.google.com/assets/colab-badge.svg\" alt=\"Open In Colab\"/></a>"
      ]
    },
    {
      "cell_type": "code",
      "execution_count": null,
      "metadata": {
        "colab": {
          "base_uri": "https://localhost:8080/"
        },
        "id": "CIjaL8WhOQPM",
        "outputId": "8c07f563-7cb8-4a71-f670-1dd2d67f3b1b"
      },
      "outputs": [
        {
          "output_type": "stream",
          "name": "stdout",
          "text": [
            "Sum: 15\n"
          ]
        }
      ],
      "source": [
        "#Calculate the sum, difference, product, and quotient of two numbers#\n",
        "a = 10\n",
        "b = 5\n",
        "sum_result = a + b\n",
        "print(\"Sum:\", sum_result)\n"
      ]
    },
    {
      "cell_type": "code",
      "source": [
        "Difference_result = a - b\n",
        "print(\"Difference:\", Difference_result)"
      ],
      "metadata": {
        "colab": {
          "base_uri": "https://localhost:8080/"
        },
        "id": "Dv-h9wA2PzlB",
        "outputId": "d8e9b673-d68b-4fcf-fd7c-f4f685178c03"
      },
      "execution_count": null,
      "outputs": [
        {
          "output_type": "stream",
          "name": "stdout",
          "text": [
            "Difference: 5\n"
          ]
        }
      ]
    },
    {
      "cell_type": "code",
      "source": [
        "a = 10\n",
        "b = 5\n",
        "Product_result = a * b\n",
        "print(\"Product:\", Product_result)"
      ],
      "metadata": {
        "colab": {
          "base_uri": "https://localhost:8080/"
        },
        "id": "wOciaNz2GrCJ",
        "outputId": "aeab930b-eaf7-4260-bc30-0a5ef0708fbb"
      },
      "execution_count": null,
      "outputs": [
        {
          "output_type": "stream",
          "name": "stdout",
          "text": [
            "Product: 50\n"
          ]
        }
      ]
    },
    {
      "cell_type": "code",
      "source": [
        "a = 10\n",
        "b = 5\n",
        "Quotient_result = a / b\n",
        "print(\"Quotient:\", Quotient_result)"
      ],
      "metadata": {
        "colab": {
          "base_uri": "https://localhost:8080/"
        },
        "id": "lGjLJM3FJJDT",
        "outputId": "7b98fee1-b7b5-4828-bcdb-470786a89ad1"
      },
      "execution_count": null,
      "outputs": [
        {
          "output_type": "stream",
          "name": "stdout",
          "text": [
            "Quotient: 2.0\n"
          ]
        }
      ]
    },
    {
      "cell_type": "code",
      "source": [
        "#Perform various assignment operations on variable#\n",
        "#Initialize a variable#\n",
        "\n",
        "\n",
        "#Addition#\n",
        "y = 15\n",
        "x = y + 3\n",
        "print(\"After Addition:\", x)\n",
        "\n",
        "#Subtraction#\n",
        "y = 15\n",
        "x = y - 2\n",
        "print(\"After Subtraction:\", x)\n",
        "\n",
        "#Multiplication#\n",
        "y = 15\n",
        "x = y * 4\n",
        "print(\"After Multiplication:\", x)\n",
        "\n",
        "#Division#\n",
        "y = 15\n",
        "x = y / 3\n",
        "print(\"After Division:\", x)\n",
        "\n",
        "#Modulus#\n",
        "y = 15\n",
        "x = y % 5\n",
        "print(\"After Modulus:\", x)\n",
        "\n",
        "#Exponential#\n",
        "y = 15\n",
        "x = y ** 2\n",
        "print(\"After exponential:\", x)\n",
        "\n",
        "#Floor Division#\n",
        "y = 15\n",
        "x = y // 2\n",
        "print(\"After Floor Division:\", x)"
      ],
      "metadata": {
        "colab": {
          "base_uri": "https://localhost:8080/"
        },
        "id": "n-ZetaRXKo9j",
        "outputId": "e0523571-e2ac-48e0-9628-15ac4dd17935"
      },
      "execution_count": 16,
      "outputs": [
        {
          "output_type": "stream",
          "name": "stdout",
          "text": [
            "After Addition: 18\n",
            "After Subtraction: 13\n",
            "After Multiplication: 60\n",
            "After Division: 5.0\n",
            "After Modulus: 0\n",
            "After exponential: 225\n",
            "After Floor Division: 7\n"
          ]
        }
      ]
    },
    {
      "cell_type": "code",
      "source": [
        "#Compare two numbers and print the results#\n",
        "num1 = 10\n",
        "num2 = 5\n",
        "if num1 > num2:\n",
        "  print(\"num1 is greater than num2\")\n",
        "elif num2 > num1:\n",
        "  print(\"num2 is greater than num1\")\n",
        "else:\n",
        "  print(\"num1 is equal to num2\")\n"
      ],
      "metadata": {
        "colab": {
          "base_uri": "https://localhost:8080/"
        },
        "id": "FbeCJDaxagtK",
        "outputId": "0a472f66-888b-4c2c-c3ec-7db6dbda9d27"
      },
      "execution_count": null,
      "outputs": [
        {
          "output_type": "stream",
          "name": "stdout",
          "text": [
            "num1 is greater than num2\n"
          ]
        }
      ]
    },
    {
      "cell_type": "code",
      "source": [
        "#Check conditions using logical operators#\n",
        "x = 5\n",
        "y = 10\n",
        "z = 15\n",
        "if x < y and y < z:\n",
        "  print(\"Both conditions are True\")\n",
        "else:\n",
        "  print(\"Atleast one condition is False\")\n",
        "if x > y or y < z:\n",
        "  print(\"Atleast one condition is True\")\n"
      ],
      "metadata": {
        "colab": {
          "base_uri": "https://localhost:8080/"
        },
        "id": "QwoB0rWadYgk",
        "outputId": "03a277ab-53c8-47bc-9c60-6d3c1806f4a6"
      },
      "execution_count": null,
      "outputs": [
        {
          "output_type": "stream",
          "name": "stdout",
          "text": [
            "Both conditions are True\n",
            "Atleast one condition is True\n"
          ]
        }
      ]
    },
    {
      "cell_type": "code",
      "source": [
        "#Check the identity of variables#\n",
        "x = \"Hello World\"\n",
        "print(type(x))"
      ],
      "metadata": {
        "colab": {
          "base_uri": "https://localhost:8080/"
        },
        "id": "2eUu5CeBJrFl",
        "outputId": "bbc5da62-aac4-4384-fb6f-5a972b9c3233"
      },
      "execution_count": 2,
      "outputs": [
        {
          "output_type": "stream",
          "name": "stdout",
          "text": [
            "<class 'str'>\n"
          ]
        }
      ]
    },
    {
      "cell_type": "code",
      "source": [
        "x = 10\n",
        "print(type(x))"
      ],
      "metadata": {
        "colab": {
          "base_uri": "https://localhost:8080/"
        },
        "id": "71uYA8MjK7bD",
        "outputId": "0aaf5cd0-5749-4559-b329-c40af7866f2e"
      },
      "execution_count": 3,
      "outputs": [
        {
          "output_type": "stream",
          "name": "stdout",
          "text": [
            "<class 'int'>\n"
          ]
        }
      ]
    },
    {
      "cell_type": "code",
      "source": [
        "x = 3.14\n",
        "print(type(x))"
      ],
      "metadata": {
        "colab": {
          "base_uri": "https://localhost:8080/"
        },
        "id": "-Rg6HveYLD-E",
        "outputId": "a5f2c80a-0403-4aab-969d-4317ae9ba4a1"
      },
      "execution_count": 4,
      "outputs": [
        {
          "output_type": "stream",
          "name": "stdout",
          "text": [
            "<class 'float'>\n"
          ]
        }
      ]
    },
    {
      "cell_type": "code",
      "source": [
        "x = (1,2,3,4,5)\n",
        "print(type(x))"
      ],
      "metadata": {
        "colab": {
          "base_uri": "https://localhost:8080/"
        },
        "id": "L_GE0qV2LLuY",
        "outputId": "30ef7230-8386-4c18-dfd3-98abe423585a"
      },
      "execution_count": 5,
      "outputs": [
        {
          "output_type": "stream",
          "name": "stdout",
          "text": [
            "<class 'tuple'>\n"
          ]
        }
      ]
    },
    {
      "cell_type": "code",
      "source": [
        "x = [1,2,3,4,5]\n",
        "print(type(x))"
      ],
      "metadata": {
        "colab": {
          "base_uri": "https://localhost:8080/"
        },
        "id": "87B9BRhtLU_B",
        "outputId": "0ed90720-e1c2-42b7-8801-bd9007655b10"
      },
      "execution_count": 6,
      "outputs": [
        {
          "output_type": "stream",
          "name": "stdout",
          "text": [
            "<class 'list'>\n"
          ]
        }
      ]
    },
    {
      "cell_type": "code",
      "source": [
        "x = True\n",
        "print(type(x))"
      ],
      "metadata": {
        "colab": {
          "base_uri": "https://localhost:8080/"
        },
        "id": "Kk_weVvRLdKx",
        "outputId": "dc78949a-f80b-4e48-90d7-97415bd79d3d"
      },
      "execution_count": 7,
      "outputs": [
        {
          "output_type": "stream",
          "name": "stdout",
          "text": [
            "<class 'bool'>\n"
          ]
        }
      ]
    },
    {
      "cell_type": "code",
      "source": [
        "x = {'Name': 'Alice','Age': '25'}\n",
        "print(type(x))"
      ],
      "metadata": {
        "colab": {
          "base_uri": "https://localhost:8080/"
        },
        "id": "gSP07M8XLjrc",
        "outputId": "045d9db3-c9d6-42a5-da59-e61bdbe7127e"
      },
      "execution_count": 8,
      "outputs": [
        {
          "output_type": "stream",
          "name": "stdout",
          "text": [
            "<class 'dict'>\n"
          ]
        }
      ]
    },
    {
      "cell_type": "code",
      "source": [
        "#Perform Bitwise operations on any two integers#\n",
        "x = 5\n",
        "y = 3\n",
        "result_and = x & y\n",
        "print(\"Bitwise AND:\", result_and)\n",
        "\n",
        "result_or = x | y\n",
        "print(\"Bitwise OR:\", result_or)\n",
        "\n",
        "result_xor = x ^ y\n",
        "print(\"Bitwise XOR:\", result_xor)\n",
        "\n",
        "result_not_x = -x\n",
        "print(\"Bitwise NOT x:\", result_not_x)\n",
        "\n",
        "result_left_shift = x << 1\n",
        "print(\"Bitwise Left Shift:\", result_left_shift)\n",
        "\n",
        "result_right_shift = x >> 1\n",
        "print(\"Bitwise Right Shift:\", result_right_shift)"
      ],
      "metadata": {
        "colab": {
          "base_uri": "https://localhost:8080/"
        },
        "id": "_IBeGU7WL5Kl",
        "outputId": "43a61a53-a54f-4556-e503-f1530371fceb"
      },
      "execution_count": 9,
      "outputs": [
        {
          "output_type": "stream",
          "name": "stdout",
          "text": [
            "Bitwise AND: 1\n",
            "Bitwise OR: 7\n",
            "Bitwise XOR: 6\n",
            "Bitwise NOT x: -5\n",
            "Bitwise Left Shift: 10\n",
            "Bitwise Right Shift: 2\n"
          ]
        }
      ]
    },
    {
      "cell_type": "code",
      "source": [
        "#Use unary operators to change the sign of a number#\n",
        "number = 10\n",
        "number = -number\n",
        "print(number)\n",
        "\n",
        "number = 10\n",
        "number *= -1\n",
        "print(number)"
      ],
      "metadata": {
        "colab": {
          "base_uri": "https://localhost:8080/"
        },
        "id": "S_51j8nxN63S",
        "outputId": "16d13858-36e0-4938-9a0b-a48eee7d24af"
      },
      "execution_count": 12,
      "outputs": [
        {
          "output_type": "stream",
          "name": "stdout",
          "text": [
            "-10\n",
            "-10\n"
          ]
        }
      ]
    },
    {
      "cell_type": "code",
      "source": [
        "##Use the ternary operator to assign values based on conditions#\n",
        "x = 40\n",
        "y = 50\n",
        "max_value = x if x > y else y\n",
        "print(max_value)"
      ],
      "metadata": {
        "colab": {
          "base_uri": "https://localhost:8080/"
        },
        "id": "2bfeYDsAStrm",
        "outputId": "978d083f-b8fe-45ab-fafc-f7be2a2dc400"
      },
      "execution_count": 15,
      "outputs": [
        {
          "output_type": "stream",
          "name": "stdout",
          "text": [
            "50\n"
          ]
        }
      ]
    }
  ]
}
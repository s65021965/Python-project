{
  "nbformat": 4,
  "nbformat_minor": 0,
  "metadata": {
    "colab": {
      "provenance": [],
      "authorship_tag": "ABX9TyNzvOk73xFOF3yxohr/ILiZ",
      "include_colab_link": true
    },
    "kernelspec": {
      "name": "python3",
      "display_name": "Python 3"
    },
    "language_info": {
      "name": "python"
    }
  },
  "cells": [
    {
      "cell_type": "markdown",
      "metadata": {
        "id": "view-in-github",
        "colab_type": "text"
      },
      "source": [
        "<a href=\"https://colab.research.google.com/github/s65021965/Python-project/blob/main/Bank_Operation_using_OOPs.ipynb\" target=\"_parent\"><img src=\"https://colab.research.google.com/assets/colab-badge.svg\" alt=\"Open In Colab\"/></a>"
      ]
    },
    {
      "cell_type": "code",
      "execution_count": 10,
      "metadata": {
        "colab": {
          "base_uri": "https://localhost:8080/"
        },
        "id": "29S2V4T5GJuk",
        "outputId": "d59e04cf-13fd-48b5-8e03-17062d33867c"
      },
      "outputs": [
        {
          "output_type": "stream",
          "name": "stdout",
          "text": [
            "Welcome to State Bank of India, Sakherbazar\n",
            "Enter your name: Siddharth Mahato\n",
            "Enter your pan number: HAYPM6630R\n",
            "Enter your address: Sakherbazar\n",
            "Hello Siddharth Mahato congratulations! Your Account has been successfully created\n",
            "Select any option.\n",
            "1.Deposit\n",
            "2.Withdrawal\n",
            "3.Ministatement\n",
            "4.Stop\n",
            "1\n",
            "Enter the amount to be deposited10000\n",
            "10000.0 deposited successfully!\n",
            "Select any option.\n",
            "1.Deposit\n",
            "2.Withdrawal\n",
            "3.Ministatement\n",
            "4.Stop\n",
            "15000\n",
            "Select any option.\n",
            "1.Deposit\n",
            "2.Withdrawal\n",
            "3.Ministatement\n",
            "4.Stop\n",
            "1\n",
            "Enter the amount to be deposited15000\n",
            "15000.0 deposited successfully!\n",
            "Select any option.\n",
            "1.Deposit\n",
            "2.Withdrawal\n",
            "3.Ministatement\n",
            "4.Stop\n",
            "3\n",
            "Your Account Balance is 25000.0\n",
            "Select any option.\n",
            "1.Deposit\n",
            "2.Withdrawal\n",
            "3.Ministatement\n",
            "4.Stop\n",
            "2\n",
            "Enter the amount to be withdrawn10000\n",
            "10000.0 withdrawn successfully!\n",
            "Select any option.\n",
            "1.Deposit\n",
            "2.Withdrawal\n",
            "3.Ministatement\n",
            "4.Stop\n",
            "3\n",
            "Your Account Balance is 15000.0\n",
            "Select any option.\n",
            "1.Deposit\n",
            "2.Withdrawal\n",
            "3.Ministatement\n",
            "4.Stop\n",
            "4\n",
            "Thanks for using State Bank of India!\n"
          ]
        }
      ],
      "source": [
        "class Bank:\n",
        "  bankname = \"State Bank of India\"\n",
        "  branchname = \"Sakherbazar\"\n",
        "\n",
        "  #create account\n",
        "  def __init__(self, username, pan, address):\n",
        "    self.username = username\n",
        "    self.pan = pan\n",
        "    self.address = address\n",
        "    self.balance = 0\n",
        "    print(f\"Hello {self.username} congratulations! Your Account has been successfully created\")\n",
        "\n",
        "#deposit amount\n",
        "  def deposit(self, amount):\n",
        "    self.balance = self.balance + amount\n",
        "    print(f\"{amount} deposited successfully!\")\n",
        "#withdraw amount\n",
        "  def withdraw(self, amount):\n",
        "    if amount < self.balance:\n",
        "       self.balance = self.balance - amount\n",
        "       print(f\"{amount} withdrawn successfully!\")\n",
        "    else:\n",
        "      print(\"Insufficient Fund\")\n",
        "#ministatement\n",
        "  def ministatement(self):\n",
        "    print(f'Your Account Balance is {self.balance}')\n",
        "\n",
        "print(f'Welcome to {Bank.bankname}, {Bank.branchname}')\n",
        "username = input(\"Enter your name: \")\n",
        "pan = input(\"Enter your pan number: \")\n",
        "address = input(\"Enter your address: \")\n",
        "b = Bank(username, pan, address)\n",
        "\n",
        "while True:\n",
        "  print(\"Select any option.\")\n",
        "  print(\"1.Deposit\\n2.Withdrawal\\n3.Ministatement\\n4.Stop\")\n",
        "  option = int(input(''))\n",
        "\n",
        "  if option==1:\n",
        "    amount = float(input(\"Enter the amount to be deposited\"))\n",
        "    b.deposit(amount)\n",
        "  if option==2:\n",
        "    amount = float(input(\"Enter the amount to be withdrawn\"))\n",
        "    b.withdraw(amount)\n",
        "  if option==3:\n",
        "    b.ministatement()\n",
        "  if option==4:\n",
        "    print(\"Thanks for using State Bank of India!\")\n",
        "    break"
      ]
    }
  ]
}
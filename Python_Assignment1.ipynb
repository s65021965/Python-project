{
  "nbformat": 4,
  "nbformat_minor": 0,
  "metadata": {
    "colab": {
      "provenance": [],
      "authorship_tag": "ABX9TyMW7WU/qTb20UkOEaGJdHWV",
      "include_colab_link": true
    },
    "kernelspec": {
      "name": "python3",
      "display_name": "Python 3"
    },
    "language_info": {
      "name": "python"
    }
  },
  "cells": [
    {
      "cell_type": "markdown",
      "metadata": {
        "id": "view-in-github",
        "colab_type": "text"
      },
      "source": [
        "<a href=\"https://colab.research.google.com/github/s65021965/Python-project/blob/main/Python_Assignment1.ipynb\" target=\"_parent\"><img src=\"https://colab.research.google.com/assets/colab-badge.svg\" alt=\"Open In Colab\"/></a>"
      ]
    },
    {
      "cell_type": "markdown",
      "source": [],
      "metadata": {
        "id": "VFfY5Qn6B8ye"
      }
    },
    {
      "cell_type": "code",
      "execution_count": 1,
      "metadata": {
        "colab": {
          "base_uri": "https://localhost:8080/"
        },
        "id": "8gFrozQSAZz7",
        "outputId": "1ceb7863-0ca7-46a6-8906-9a6f09ca0d43"
      },
      "outputs": [
        {
          "output_type": "stream",
          "name": "stdout",
          "text": [
            "5.0\n"
          ]
        }
      ],
      "source": [
        "#Convert an integer to a floating-point number#\n",
        "integer_number = 5\n",
        "floating_point_number = float(integer_number)\n",
        "print(floating_point_number)"
      ]
    },
    {
      "cell_type": "code",
      "source": [
        "#Convert a float to an integer#\n",
        "float_number = 5\n",
        "integer_number = int(float_number)\n",
        "print(integer_number)"
      ],
      "metadata": {
        "colab": {
          "base_uri": "https://localhost:8080/"
        },
        "id": "_sLsgIbICol8",
        "outputId": "9a80cb1c-5a90-4634-c4b7-9f7ee3f03bea"
      },
      "execution_count": 2,
      "outputs": [
        {
          "output_type": "stream",
          "name": "stdout",
          "text": [
            "5\n"
          ]
        }
      ]
    },
    {
      "cell_type": "code",
      "source": [
        "#Convert an integer to a string#\n",
        "integer_number = 10\n",
        "string_number = str(integer_number)\n",
        "print(string_number)"
      ],
      "metadata": {
        "colab": {
          "base_uri": "https://localhost:8080/"
        },
        "id": "LVsLJXqbD1LA",
        "outputId": "6c0aece7-f8c1-4ff5-bc1d-2e602d0c8e5a"
      },
      "execution_count": 3,
      "outputs": [
        {
          "output_type": "stream",
          "name": "stdout",
          "text": [
            "10\n"
          ]
        }
      ]
    },
    {
      "cell_type": "code",
      "source": [
        "#Convert a list to a tuple#\n",
        "my_list = [1,2,3,4,5,6]\n",
        "my_tuple = tuple(my_list)\n",
        "print(my_tuple)"
      ],
      "metadata": {
        "colab": {
          "base_uri": "https://localhost:8080/"
        },
        "id": "YgY4p-cEEzMU",
        "outputId": "039ddd8f-7954-4eae-b7b9-2c658baf916b"
      },
      "execution_count": 4,
      "outputs": [
        {
          "output_type": "stream",
          "name": "stdout",
          "text": [
            "(1, 2, 3, 4, 5, 6)\n"
          ]
        }
      ]
    },
    {
      "cell_type": "code",
      "source": [
        "#Convert a tuple to a list#\n",
        "my_tuple = (1,2,3,4,5,6)\n",
        "my_list = list(my_tuple)\n",
        "print(my_list)"
      ],
      "metadata": {
        "colab": {
          "base_uri": "https://localhost:8080/"
        },
        "id": "VTLUgqmZFzQW",
        "outputId": "de19f1c8-e22a-45d6-f8a8-cd0cf4048682"
      },
      "execution_count": 5,
      "outputs": [
        {
          "output_type": "stream",
          "name": "stdout",
          "text": [
            "[1, 2, 3, 4, 5, 6]\n"
          ]
        }
      ]
    },
    {
      "cell_type": "code",
      "source": [
        "#Convert a decimal number to a binary number#\n",
        "decimal_number = 10\n",
        "binary_number = bin(decimal_number)\n",
        "print(binary_number)"
      ],
      "metadata": {
        "colab": {
          "base_uri": "https://localhost:8080/"
        },
        "id": "OZXsk7a9G5Bi",
        "outputId": "ca84a0dc-9cac-497a-ae44-f88776bfd98f"
      },
      "execution_count": 9,
      "outputs": [
        {
          "output_type": "stream",
          "name": "stdout",
          "text": [
            "0b1010\n"
          ]
        }
      ]
    },
    {
      "cell_type": "code",
      "source": [
        "#Convert a non-zero number to a boolean#\n",
        "number = 5\n",
        "boolean_value = bool(number)\n",
        "print(boolean_value)\n"
      ],
      "metadata": {
        "colab": {
          "base_uri": "https://localhost:8080/"
        },
        "id": "f_2FYTZsIayt",
        "outputId": "184214c4-d6ae-43b0-b497-b59059b40b41"
      },
      "execution_count": 10,
      "outputs": [
        {
          "output_type": "stream",
          "name": "stdout",
          "text": [
            "True\n"
          ]
        }
      ]
    }
  ]
}
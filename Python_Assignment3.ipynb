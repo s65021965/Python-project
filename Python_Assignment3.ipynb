{
  "nbformat": 4,
  "nbformat_minor": 0,
  "metadata": {
    "colab": {
      "provenance": [],
      "authorship_tag": "ABX9TyNJYu0p1LCbvwl2Ltp7t3u2",
      "include_colab_link": true
    },
    "kernelspec": {
      "name": "python3",
      "display_name": "Python 3"
    },
    "language_info": {
      "name": "python"
    }
  },
  "cells": [
    {
      "cell_type": "markdown",
      "metadata": {
        "id": "view-in-github",
        "colab_type": "text"
      },
      "source": [
        "<a href=\"https://colab.research.google.com/github/s65021965/Python-project/blob/main/Python_Assignment3.ipynb\" target=\"_parent\"><img src=\"https://colab.research.google.com/assets/colab-badge.svg\" alt=\"Open In Colab\"/></a>"
      ]
    },
    {
      "cell_type": "markdown",
      "source": [
        "1. Python keywords are reserved words in the Python programming language that have special meanings and cannot be used as identifiers (variable names, function names, etc.). They are fundamental building blocks of the language and are used to define syntax rules and structures. Understanding and using keywords correctly is essential for writing clear and functional Python code.\n",
        "\n",
        "Here are five Python keywords along with their significance and examples:"
      ],
      "metadata": {
        "id": "Yvc6R9I_DLX2"
      }
    },
    {
      "cell_type": "code",
      "source": [
        "#If keyword used to define conditional statements#\n",
        "x = 10\n",
        "if x > 5:\n",
        "    print(\"x is greater than 5\")"
      ],
      "metadata": {
        "colab": {
          "base_uri": "https://localhost:8080/"
        },
        "id": "NSWFX1ZAeQFD",
        "outputId": "00d40f9d-7c2e-40f8-c354-f5188295e857"
      },
      "execution_count": null,
      "outputs": [
        {
          "output_type": "stream",
          "name": "stdout",
          "text": [
            "x is greater than 5\n"
          ]
        }
      ]
    },
    {
      "cell_type": "code",
      "source": [],
      "metadata": {
        "id": "lckXz5MrEGRJ"
      },
      "execution_count": null,
      "outputs": []
    },
    {
      "cell_type": "code",
      "source": [
        "#For keyword is used to create loops. It iterates over the items of any sequence#\n",
        "for i in range(5):\n",
        "    print(i)"
      ],
      "metadata": {
        "colab": {
          "base_uri": "https://localhost:8080/"
        },
        "id": "oCaSgFH-fnOY",
        "outputId": "e45bbdc5-850b-4389-fa50-7a5da18e5839"
      },
      "execution_count": null,
      "outputs": [
        {
          "output_type": "stream",
          "name": "stdout",
          "text": [
            "0\n",
            "1\n",
            "2\n",
            "3\n",
            "4\n"
          ]
        }
      ]
    },
    {
      "cell_type": "code",
      "source": [
        "#def keyword is used to define functions in Python. It is followed by the function name and the parameters in parenthesis#\n",
        "def greet(Alice):\n",
        "    print(\"Hello, \" + Alice)"
      ],
      "metadata": {
        "id": "SiL9ahkGgak5"
      },
      "execution_count": null,
      "outputs": []
    },
    {
      "cell_type": "code",
      "source": [
        "#return: The return keyword is used inside a function to exit the function and return a value to the caller#\n",
        "\n",
        "def add(x, y):\n",
        "    return x + y\n",
        "result = add(5, 2)\n",
        "print(\"The result is:\", result)"
      ],
      "metadata": {
        "colab": {
          "base_uri": "https://localhost:8080/"
        },
        "id": "Hfy_GlQSh7DA",
        "outputId": "169d8df0-f844-4e1b-81cc-ae3f0ae27e21"
      },
      "execution_count": null,
      "outputs": [
        {
          "output_type": "stream",
          "name": "stdout",
          "text": [
            "The result is: 7\n"
          ]
        }
      ]
    },
    {
      "cell_type": "code",
      "source": [
        "#import: The import keyword is used to import modules or specific attributes/functions from modules into the current namespace#\n",
        "import math\n",
        "print(math.pi)"
      ],
      "metadata": {
        "colab": {
          "base_uri": "https://localhost:8080/"
        },
        "id": "mz3xwRVKjGJ2",
        "outputId": "70645452-3932-426d-8dbf-1719e025290b"
      },
      "execution_count": null,
      "outputs": [
        {
          "output_type": "stream",
          "name": "stdout",
          "text": [
            "3.141592653589793\n"
          ]
        }
      ]
    },
    {
      "cell_type": "markdown",
      "source": [
        "2. In Python, identifiers are names given to entities like variables, functions, classes, etc. Here are the rules for defining identifiers in Python:\n",
        "\n",
        "Can start with a letter (a-z, A-Z) or an underscore (_) but not with a digit (0-9).\n",
        "Can contain letters, digits, and underscores.\n",
        "Case-sensitive.\n",
        "Cannot be a reserved word or keyword.\n",
        "\n",
        "Valid Identifiers\n",
        "my_variable = 10\n",
        "_my_variable = 20\n",
        "myVariable = 30\n",
        "my_variable2 = 40\n",
        "\n",
        "Invalid Identifiers\n",
        "2nd_variable = 50  # Cannot start with a digit\n",
        "my-variable = 60    # Hyphens are not allowed\n",
        "for = 70            # 'for' is a keyword in Python"
      ],
      "metadata": {
        "id": "APtMdboTDkQc"
      }
    },
    {
      "cell_type": "markdown",
      "source": [
        "3. In Python, comments are textual annotations within the code that are ignored by the interpreter. They are used to explain the purpose of the code, make it more readable, and help other developers understand the logic behind it. Comments are not executed when the code runs, making them ideal for providing context and explanations without affecting the program's functionality.\n",
        "\n",
        "Here's an example of comments in Python:\n",
        "def add_numbers(a, b):\n",
        "    \n",
        "result = add_numbers(5, 3)  # This line adds 5 and 3\n",
        "print(\"The result is:\", result)"
      ],
      "metadata": {
        "id": "ZjoGm5JZI-TR"
      }
    },
    {
      "cell_type": "code",
      "source": [
        "def add_numbers(a,b):\n",
        "  return a + b\n",
        "result = add_numbers(5,3)\n",
        "print(\"The result is:\",result)"
      ],
      "metadata": {
        "colab": {
          "base_uri": "https://localhost:8080/"
        },
        "id": "IrIxPYO3JcpS",
        "outputId": "bade4a92-8d78-40be-be30-5928060b019c"
      },
      "execution_count": null,
      "outputs": [
        {
          "output_type": "stream",
          "name": "stdout",
          "text": [
            "The result is: 8\n"
          ]
        }
      ]
    },
    {
      "cell_type": "markdown",
      "source": [
        "4. Proper indentation is crucial in Python because it determines the structure and readability of the code. Unlike many other programming languages that use curly braces or keywords to denote code blocks, Python uses indentation to define the scope of statements within loops, functions, classes, and conditional statements. Here's why proper indentation is important in Python:\n",
        "\n",
        ">Readability: Indentation enhances code readability by visually indicating the logical structure of the code. It makes it easier for developers to understand the flow of control and the relationship between different parts of the code.\n",
        "\n",
        ">Clarity: Proper indentation helps in distinguishing between different levels of code nesting. It clearly indicates which statements are part of a loop, function, or conditional block, reducing the chances of errors due to misinterpretation.\n",
        "\n",
        ">Enforcement of Syntax: In Python, indentation is not just a matter of style; it's a syntactical requirement. Incorrect indentation can lead to syntax errors or logical errors in the code. Python interpreter relies on indentation to understand the structure of the code and execute it correctly.\n",
        "\n",
        ">Consistency: Consistent indentation improves the maintainability of the codebase. It makes it easier for multiple developers to collaborate on the same code, as everyone follows the same indentation conventions.\n",
        "\n",
        ">Debugging: Properly indented code is easier to debug. It helps in quickly identifying misplaced or missing statements, which can often be the cause of bugs or unexpected behavior.\n",
        "\n",
        ">Compliance with PEP 8: PEP 8 is the official style guide for Python code. It recommends using four spaces for indentation and enforcing a consistent style throughout the codebase. Proper indentation ensures compliance with PEP 8 guidelines, making the code more professional and standardized."
      ],
      "metadata": {
        "id": "fTRI9eWNDDwB"
      }
    },
    {
      "cell_type": "markdown",
      "source": [
        "5. If the indentation is incorrect in Python, it can lead to several issues, ranging from syntax errors to logical errors in the code. Here are some consequences of incorrect indentation in Python:\n",
        "\n",
        "Syntax Errors: Python interpreter relies on indentation to understand the structure of the code. Incorrect or inconsistent indentation can result in syntax errors, causing the interpreter to raise exceptions and terminate the program execution.\n",
        "\n",
        "Misinterpretation of Code Structure: Incorrect indentation can lead to the misinterpretation of the code structure. Python treats indentation as a way to define blocks of code, such as loops, functions, or conditional statements. Without proper indentation, it becomes challenging to determine which statements belong to which block, leading to confusion and potential errors.\n",
        "\n",
        "Logical Errors: Incorrect indentation can cause logical errors in the code. For example, if a statement is incorrectly indented inside a loop or conditional block, it may execute when it's not supposed to, or vice versa. This can result in unexpected behavior and incorrect program output.\n",
        "\n",
        "Unintended Nesting: Improper indentation can lead to unintended nesting of code blocks. For instance, if a statement is indented too far or not indented enough, it may end up being nested within the wrong block, altering the program's logic and functionality.\n",
        "\n",
        "Readability Issues: In addition to causing errors, incorrect indentation also impacts code readability. Code with inconsistent or messy indentation is difficult to understand and maintain, making it challenging for developers to debug or modify the code in the future.\n",
        "\n",
        "Violation of Coding Standards: Proper indentation is a fundamental aspect of Python coding standards, as outlined in PEP 8 (Python Enhancement Proposal 8). Violating indentation conventions specified in PEP 8 can result in non-compliance and make the code appear unprofessional or unorganized."
      ],
      "metadata": {
        "id": "LCxeXKcFD4nU"
      }
    },
    {
      "cell_type": "markdown",
      "source": [
        "6. An expression is a combination of values, variables, operators, and function calls that evaluates to a single value. In simpler terms, it produces a result.\n",
        "A statement is a complete unit of execution that performs some action. It may contain expressions, but it does not necessarily produce a value.\n",
        "\n",
        "Expression:-\n",
        "\n",
        "Always evaluates to a single value.\n",
        "\n",
        "Computes a value based on inputs.\n",
        "\n",
        "Does not modify program state or variables.\n",
        "\n",
        "Examples:\n",
        "\n",
        "result = 5 + 3 * 2\n",
        "\n",
        "greeting = \"Hello, \" + \"world!\"\n",
        "\n",
        "length = len(\"Python\")\n",
        "\n",
        "squares = [x**2 for x in range(1, 5)]\n",
        "\n",
        "Statement:-\n",
        "\n",
        "\n",
        "May or may not produce a value.\n",
        "\n",
        "Performs an action, such as assignment or loop.\n",
        "\n",
        "May modify program state or variables.\n",
        "\n",
        "Examples:\n",
        "\n",
        "x = 10\n",
        "\n",
        "if x > 5:\n",
        "\n",
        "for i in range(3):\n",
        "\n",
        "def greet(name):\n"
      ],
      "metadata": {
        "id": "SMuHBy7PFC9b"
      }
    }
  ]
}